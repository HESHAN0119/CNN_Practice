{
 "cells": [
  {
   "cell_type": "code",
   "execution_count": null,
   "id": "b4357af5",
   "metadata": {
    "scrolled": false
   },
   "outputs": [],
   "source": [
    "from tensorflow.keras.preprocessing import image\n",
    "from tensorflow.keras.models import Sequential\n",
    "from tensorflow.keras.layers import Conv2D, MaxPooling2D, Flatten, Dense\n",
    "from tensorflow.keras.optimizers import Adam\n",
    "import matplotlib.pyplot as plt\n",
    "import numpy as np\n",
    "import os"
   ]
  },
  {
   "cell_type": "code",
   "execution_count": null,
   "id": "cc774cfb",
   "metadata": {},
   "outputs": [],
   "source": [
    "# Define the path to the train folder containing images of dogs and cats\n",
    "train_data_dir = 'cat_dog/sample/train'\n",
    "# Define the path to the val folder containing images of dogs and cats\n",
    "validation_data_dir = 'cat_dog/sample/validation'\n",
    "# Define the path to the val folder containing images of dogs and cats\n",
    "test_data_dir = 'cat_dog/sample/test'\n",
    "\n",
    "# Set up data augmentation\n",
    "train_datagen = image.ImageDataGenerator(rescale=1./255) \n",
    "\n",
    "# Load and augment the training dataset\n",
    "train_generator = train_datagen.flow_from_directory(\n",
    "    train_data_dir,\n",
    "    target_size=(150, 150),\n",
    "    class_mode='categorical'\n",
    ")\n",
    "\n",
    "# Set up data augmentation\n",
    "validation_datagen = image.ImageDataGenerator(rescale=1./255)\n",
    "\n",
    "# Load and augment the training dataset\n",
    "validation_generator = validation_datagen.flow_from_directory(\n",
    "    validation_data_dir,\n",
    "    target_size=(150, 150),\n",
    "    class_mode='categorical'\n",
    ")\n",
    "\n",
    "# Set up data augmentation\n",
    "test_datagen = image.ImageDataGenerator(rescale=1./255)\n",
    "\n",
    "# Load and augment the training dataset\n",
    "test_generator = test_datagen.flow_from_directory(\n",
    "    test_data_dir,\n",
    "    target_size=(150, 150),\n",
    "    class_mode='categorical'\n",
    ")"
   ]
  },
  {
   "cell_type": "code",
   "execution_count": null,
   "id": "58c0be44",
   "metadata": {},
   "outputs": [],
   "source": [
    "# Build the CNN model\n",
    "model = Sequential()\n",
    "model.add(Conv2D(32, (3, 3), activation='relu', input_shape=(150, 150, 3))) #have to give the size of the original image as values 150, 150 ,if 3 => RGB ,if 1=> grayscale\n",
    "model.add(MaxPooling2D(2, 2)) \n",
    "model.add(Conv2D(64, (3, 3), activation='relu'))\n",
    "model.add(MaxPooling2D(2, 2))\n",
    "model.add(Conv2D(128, (3, 3), activation='relu'))\n",
    "model.add(MaxPooling2D(2, 2))\n",
    "model.add(Flatten()) #convert any dimension of array to one dimension\n",
    "model.add(Dense(128, activation='relu')) #this layer can only identify number\n",
    "model.add(Dense(2, activation='softmax')) #binary classification\n",
    "#can also use\n",
    "#model.add(Dense(1, activation='sigmoid'))"
   ]
  },
  {
   "cell_type": "code",
   "execution_count": 4,
   "id": "1b37d1f1",
   "metadata": {},
   "outputs": [],
   "source": [
    "# compile model\n",
    "optimizer = Adam(learning_rate=0.001)\n",
    "model.compile(optimizer=optimizer, loss=\"categorical_crossentropy\", metrics=[\"accuracy\"])"
   ]
  },
  {
   "cell_type": "code",
   "execution_count": null,
   "id": "d2d5edbc",
   "metadata": {},
   "outputs": [],
   "source": [
    "# train the model\n",
    "history = model.fit(train_generator, epochs=30, validation_data=validation_generator) #use the predifined 'validation_generator' as the validation_data"
   ]
  },
  {
   "cell_type": "code",
   "execution_count": null,
   "id": "19df6470",
   "metadata": {},
   "outputs": [],
   "source": [
    "# Plot training history\n",
    "plt.plot(history.history['accuracy'], label='Training Accuracy')\n",
    "plt.plot(history.history['val_accuracy'], label='Validation Accuracy')\n",
    "plt.legend()\n",
    "plt.show()\n",
    "#can change epochs, learning rate, Dense  layer =>128"
   ]
  },
  {
   "cell_type": "code",
   "execution_count": null,
   "id": "91d4fde9",
   "metadata": {},
   "outputs": [],
   "source": [
    "# Evaluate the model on the test set\n",
    "test_loss, test_accuracy = model.evaluate(test_generator)\n",
    "print(f'Test Accuracy: {test_accuracy*100:.2f}%')"
   ]
  },
  {
   "cell_type": "code",
   "execution_count": null,
   "id": "63d1efb0",
   "metadata": {},
   "outputs": [],
   "source": [
    "directory_path = 'cat_dog/sample/predict'\n",
    "# List all files in the specified directory\n",
    "files = os.listdir(directory_path)\n",
    "\n",
    "# Iterate through the files and move those starting with 'dog_' to the 'dog' folder\n",
    "for file in files:\n",
    "    image_path = os.path.join(directory_path, file)\n",
    "    \n",
    "    if os.path.isfile(os.path.join(directory_path, file)):\n",
    "        # Load and preprocess the image\n",
    "        img = image.load_img(image_path, target_size=(150, 150))\n",
    "        img_array = image.img_to_array(img)\n",
    "        img_array = np.expand_dims(img_array, axis=0)  # Add an extra dimension to match the model's expected input shape\n",
    "        img_array /= 255.0  # Normalize pixel values to be in the range [0, 1]\n",
    "\n",
    "        # Make a prediction\n",
    "        prediction = model.predict(img_array)\n",
    "        print(prediction)\n",
    "\n",
    "        # `predictions` is a numpy array containing the predicted probabilities for each class\n",
    "        # You can further process these predictions based on your specific use case\n",
    "        # Assuming you have `predictions` from the previous code\n",
    "\n",
    "        # Get the predicted class index\n",
    "        predicted_class_index = np.argmax(prediction)\n",
    "\n",
    "        # Define your class labels\n",
    "        class_labels = ['cat', 'dog']\n",
    "\n",
    "        # Get the corresponding class label\n",
    "        predicted_class_label = class_labels[predicted_class_index]\n",
    "\n",
    "        # Get the confidence score for the predicted class\n",
    "        confidence_score = prediction[0, predicted_class_index]\n",
    "\n",
    "        # Display the results\n",
    "        print(f'Predicted Class: {predicted_class_label}')\n",
    "        print(f'Confidence Score: {confidence_score * 100:.2f}%')\n"
   ]
  }
 ],
 "metadata": {
  "kernelspec": {
   "display_name": "Python 3 (ipykernel)",
   "language": "python",
   "name": "python3"
  },
  "language_info": {
   "codemirror_mode": {
    "name": "ipython",
    "version": 3
   },
   "file_extension": ".py",
   "mimetype": "text/x-python",
   "name": "python",
   "nbconvert_exporter": "python",
   "pygments_lexer": "ipython3",
   "version": "3.9.13"
  }
 },
 "nbformat": 4,
 "nbformat_minor": 5
}
